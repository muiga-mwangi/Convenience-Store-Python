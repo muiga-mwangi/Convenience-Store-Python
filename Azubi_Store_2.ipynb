{
  "cells": [
    {
      "cell_type": "code",
      "execution_count": 23,
      "metadata": {
        "colab": {
          "base_uri": "https://localhost:8080/"
        },
        "id": "S_aVguVIhofZ",
        "outputId": "60588fcb-3461-4b0e-be67-73e52a8b472b"
      },
      "outputs": [
        {
          "name": "stdout",
          "output_type": "stream",
          "text": [
            "Average price is = 33.33\n",
            "\n",
            "The new prices are as follows:\n",
            "[25, 20, 35, 15, 15, 30, 40, 45, 30]\n",
            "\n",
            "The new prices are as follows:\n",
            "[25, 20, 35, 15, 15, 30, 40, 45, 30]\n",
            "\u001b[1m\n",
            "\n",
            "The total revenue generated was:\n",
            "1400\n",
            "\u001b[0m\n",
            "\n",
            "\n",
            "The products and their new prices are as follows :\n",
            " {'Sankofa Foods': 25, 'Jamestown Coffee': 20, 'Bioko Chocolate': 35, 'Blue Skies Ice Cream': 15, 'Fair Afric Chocolate': 15, 'Kawa Moka Coffee': 30, 'Aphro Spirit': 40, 'Mensado Bissap': 45, 'Voltic': 30}\n",
            "\u001b[1m\n",
            "\n",
            "\n",
            "The products that are less than 30 cedis are the following :\n",
            " ['Sankofa Foods', 'Jamestown Coffee', 'Blue Skies Ice Cream', 'Fair Afric Chocolate']\n",
            "\u001b[0m\n"
          ]
        }
      ],
      "source": [
        "#Azubi Store Details\n",
        "products = [\"Sankofa Foods\", \"Jamestown Coffee\", \"Bioko Chocolate\", \"Blue Skies Ice Cream\", \"Fair Afric Chocolate\", \"Kawa Moka Coffee\", \"Aphro Spirit\", \"Mensado Bissap\", \"Voltic\"]\n",
        "\n",
        "prices = [30, 25, 40, 20, 20, 35, 45, 50, 35]\n",
        "\n",
        "patronize_last_week = [2, 3, 5, 8, 4, 4, 6, 2, 9]\n",
        "\n",
        "#---------------------------------------------------------------------------------\n",
        "#Question 1 - Calculate sthe total price average for all products\n",
        "#---------------------------------------------------------------------------------\n",
        "\n",
        "#Calculate Average using Sum and Len\n",
        "average = sum(prices) / len(prices)\n",
        "\n",
        "# Printing average of the list\n",
        "print(\"Average price is =\", round(average, 2))\n",
        "\n",
        "#---------------------------------------------------------------------------------\n",
        "#Question 2 - A new Price List that Reduces the old prices by 5 Cedis\n",
        "#---------------------------------------------------------------------------------\n",
        "#Method 1- Using List Comprehension\n",
        "\n",
        "new_prices = [x - 5 for x in prices]\n",
        "\n",
        "#Print a string and the prices below it\n",
        "print(\"\\nThe new prices are as follows:\")\n",
        "print(new_prices)\n",
        "\n",
        "#---------------------------------------------------------------------------------\n",
        "#Method 2- Using a for loop\n",
        "\n",
        "new_prices2 = prices\n",
        "\n",
        "for i in range(len(prices)):\n",
        "  new_prices2[i] -= 5\n",
        "print(\"\\nThe new prices are as follows:\")\n",
        "print(new_prices2)\n",
        "\n",
        "#---------------------------------------------------------------------------------\n",
        "#Question 3 - Total Revenue Generated from the Products\n",
        "#---------------------------------------------------------------------------------\n",
        " \n",
        "prices = [30, 25, 40, 20, 20, 35, 45, 50, 35]\n",
        "patronize_last_week = [2, 3, 5, 8, 4, 4, 6, 2, 9]\n",
        "\n",
        "'''Use zip() method to multiply each item in prices with the corresponding number\n",
        "of people who patronized the product'''\n",
        "\n",
        "sum_of_products = [a * b for a, b in zip(prices, patronize_last_week)]\n",
        "\n",
        "print(\"\\033[1m\")\n",
        "print(\"\\nThe total revenue generated was:\")\n",
        "print(sum(sum_of_products)) #The sum of the resulting list is the Total Revenue\n",
        "print(\"\\033[0m\")\n",
        "\n",
        "#---------------------------------------------------------------------------------\n",
        "#Question 4 - Determine which products are less than 30 cedis based on the new prices\n",
        "#---------------------------------------------------------------------------------\n",
        "#Method - Combine 2 lists to a dictionary using dictionary comprehension\n",
        "#Create a dictionary with the lists products and new prices\n",
        "products_new_prices = {products[i]: new_prices[i] for i in range(len(products))}\n",
        "\n",
        "#Print the dictionary of products and their new prices\n",
        "print(\"\\n\\nThe products and their new prices are as follows :\\n \" + str(products_new_prices))\n",
        "\n",
        "#Evaluate products with new price less than 30 and print the result\n",
        "print(\"\\033[1m\")\n",
        "print(\"\\n\\nThe products that are less than 30 cedis are the following :\\n \" + str([key for key, value in products_new_prices.items() if value < 30]))\n",
        "print(\"\\033[0m\")"
      ]
    }
  ],
  "metadata": {
    "colab": {
      "collapsed_sections": [],
      "provenance": []
    },
    "kernelspec": {
      "display_name": "Python 3",
      "name": "python3"
    },
    "language_info": {
      "name": "python"
    }
  },
  "nbformat": 4,
  "nbformat_minor": 0
}
